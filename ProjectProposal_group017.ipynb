{
 "cells": [
  {
   "cell_type": "markdown",
   "metadata": {},
   "source": [
    "# COGS 108 - Final Project Proposal"
   ]
  },
  {
   "cell_type": "markdown",
   "metadata": {},
   "source": [
    "# Names\n",
    "\n",
    "- Nilou Shahbandi\n",
    "- Leonardo Gonzalez\n",
    "- Brian Chen\n",
    "- Tin-Trung Pham\n",
    "- Zhongkang(ken) Fang"
   ]
  },
  {
   "cell_type": "markdown",
   "metadata": {},
   "source": [
    "# Research Question"
   ]
  },
  {
   "cell_type": "markdown",
   "metadata": {},
   "source": [
    "*How do different pollutants in California impact the rate of respiratory illnesses in individuals under 25 years old*"
   ]
  },
  {
   "cell_type": "markdown",
   "metadata": {},
   "source": [
    "## Background and Prior Work"
   ]
  },
  {
   "cell_type": "markdown",
   "metadata": {},
   "source": [
    "#### Why it is of interest to us:\n",
    "Climate change is a now problem, but it often seems that many understand climate change as a “future” problem. We wanted to provide a new perspective on why we must make changes to prevent climate change now. It has been said that “younger generations are the future” and we believe that. However, what if we could show how pollutants are impacting younger generations now? What if it was obvious that the impact of climate change is more than volatile weather to come? That’s what we want to do by answering this question.\n",
    "\n",
    "Prior to research, we all knew that pollution wasn’t a good thing. After diving deeper, we found that exposure to air pollution for extended durations can be an impacting factor in respiratory diseases like asthma and lung cancer **(1)**. In a study, we found that respiratory illnesses can be attributed to pollution, and this can be broken down into outdoor and indoor pollutants **(1)**. From this, we know that the association between pollutants and respiratory disease is true, but to what degree and amongst whom?\n",
    "#### Previous work:\n",
    "Since we are concerned with younger persons i.e. the future, we wanted to explore any prior work regarding the development of respiratory illness. Eventually, we reviewed a study that focused on the implications of lung diseases with early exposure **(2)**. By closely measuring pollution at the chemical level, associations were able to be formed regarding the impact on individuals **(2)**. One particular focus of this study found associations in prenatal air pollution exposure with several impacts on birth, along with this, the study revealed both short-term and long-term effects on respiratory health **(2)**. We wanted to take this a step further by looking at major pollutants and to what extent each of these pollutants affects individuals. By understanding which pollutants contribute most to respiratory diseases, we will be able to better prioritize if and when we look to reduce the amount of pollutants in the air.\n",
    "\n",
    "\n",
    "[^jiang]: Jiang, Xu-Qin et al. “Air pollution and chronic airway diseases: what should people know and do?.” Journal of thoracic disease vol. 8,1 (2016): E31-40. doi:10.3978/j.issn.2072-1439.2015.11.50 https://www.ncbi.nlm.nih.gov/pmc/articles/PMC4740163. \n",
    "[^kim]: Kim, Dasom et al. “Air pollutants and early origins of respiratory diseases.” Chronic diseases and translational medicine vol. 4,2 75-94. 7 Jun. 2018, doi:10.1016/j.cdtm.2018.03.003 https://www.ncbi.nlm.nih.gov/pmc/articles/PMC6033955.\n",
    "\n"
   ]
  },
  {
   "cell_type": "markdown",
   "metadata": {},
   "source": [
    "# Hypothesis\n"
   ]
  },
  {
   "cell_type": "markdown",
   "metadata": {},
   "source": [
    "*We believe that high amounts of nitrogen dioxide, sulfur dioxide, carbon monoxide, and ozone will all be highly correlated to higher rates of lung cancer among people of age 25 and younger. In particular, we believe that carbon monoxide will have the largest correlation, as it feels like we are constantly talking about carbon emissions when discussing the climate crisis. Areas with a higher concentration of these chemicals will be marked as an area with bad air quality, and the places that have worse air quality will lead to a higher rate of cancer in this age range of people than other places that aren’t as contaminated.*"
   ]
  },
  {
   "cell_type": "markdown",
   "metadata": {},
   "source": [
    "# Data"
   ]
  },
  {
   "cell_type": "markdown",
   "metadata": {},
   "source": [
    " The ideal dataset we want is a dataset with AQI(air quality index) by county/state, cancer rate by county/state, count of cancer cases by county/state, NO2 units. The dataset should include millions of observations, and it should be collected by government institutes like the CDC and the US Weather Bureau. The respiratory illness data should be provided by hospitals from different areas or perhaps documented by the government as well. These data should be stored in a semi-structured format like .csv and we also want tidy data with each variable we measure in a single column, and each variable on a different row. If the data is not clean we will do the job. \n",
    "\n",
    "Cancer data: https://statecancerprofiles.cancer.gov/incidencerates/index.php?stateFIPS=01&areatype=county&cancer=047&stage=211&race=00&sex=0&age=001&year=0&type=incd&sortVariableName=rate&sortOrder=desc#results\n",
    "\n",
    "Pollution Data: https://www.kaggle.com/datasets/sogun3/uspollution\n",
    "\n",
    "https://www.epa.gov/air-trends/air-quality-design-values\n",
    "\n",
    "\n"
   ]
  },
  {
   "cell_type": "markdown",
   "metadata": {},
   "source": [
    "# Ethics & Privacy"
   ]
  },
  {
   "cell_type": "markdown",
   "metadata": {},
   "source": [
    "*If we were to take hospital data, our data could potentially be biased because healthcare is expensive in America and not everyone can afford to go to the hospital regularly. As a result, the data would under-represent lower income groups. However, we don’t believe that this will lead to an unethical analysis in the sense that we are all affected by pollution in the same way, so we will be able to get a good grasp of which pollutants are more correlated even with that missing data. Additionally, we have considered the fact that there are multiple other factors that contribute to respiratory illnesses, like smoking, genetics, and occupation. In spite of these factors, we feel that overall our analysis will be useful. However, one big confounding variable to consider would be COVID-19. Hospital data might be significantly biased because COVID-19 affects the lungs. As a result, if we were to use more recent data, we would probably get a lot more instances of respiratory issues overall. In particular, areas with higher rates of COVID-19 will probably also have higher rates of respiratory issues, which could be a big issue for our analysis. To address this, we could simply take data from before the pandemic, although this will make it so that we are not technically considering the full picture. In terms of privacy and terms of use, if the data is provided by the government and made publicly available, there should be no issues when it comes to using it. Overall, our analysis will mostly likely not be problematic because pollution is an issue that affects us all, and all of us can benefit from understanding its effects a little better. Our project serves as a starting point for understanding which industries and sources we should focus on in our fight against the climate crisis.*"
   ]
  },
  {
   "cell_type": "markdown",
   "metadata": {},
   "source": [
    "# Team Expectations "
   ]
  },
  {
   "cell_type": "markdown",
   "metadata": {},
   "source": [
    "* *Keeping up with and making progress on the project so that it’s not all left until the end*\n",
    "* *Having equal contribution by all team members*\n",
    "* *Being able to rely on one another to review each other's work*\n",
    "* *Use statistical methods, machine learning algorithms and other tools to analyze data and create predictive models*"
   ]
  },
  {
   "cell_type": "markdown",
   "metadata": {},
   "source": [
    "# Project Timeline Proposal"
   ]
  },
  {
   "cell_type": "markdown",
   "metadata": {},
   "source": [
    "| Meeting Date  | Meeting Time| Completed Before Meeting  | Discuss at Meeting |\n",
    "|---|---|---|---|\n",
    "| 4/14  |  4 PM | Read & Think about COGS 108 expectations; brainstorm topics/questions  | Determine best form of communication; Discuss and decide on final project topic; discuss hypothesis; begin background research | \n",
    "| 4/21  | 10 AM |  Do background research on topic | Discuss ideal dataset(s) and ethics; draft project proposal | \n",
    "| 4/22  | 10 AM  | Edit, finalize, and submit proposal; Search for datasets  | Discuss Wrangling and possible analytical approaches; Assign group members to lead each specific part   |\n",
    "| 5/6  | 6 PM  | Import & Wrangle Data; EDA  | Review/Edit wrangling/EDA; Clean Data,Discuss Analysis Plan   |\n",
    "| 5/18  | 12 PM  | Finalize wrangling/EDA; Begin Analysis  | Discuss/edit Analysis; Complete project check-in |\n",
    "| 5/27  | 12 PM  | Complete analysis; Draft results/conclusion/discussion (Wasp)| Discuss/edit full project |\n",
    "| 6/6  | Before 11:59 PM  | NA | Turn in Final Project & Group Project Surveys |"
   ]
  }
 ],
 "metadata": {
  "kernelspec": {
   "display_name": "Python 3 (ipykernel)",
   "language": "python",
   "name": "python3"
  },
  "language_info": {
   "codemirror_mode": {
    "name": "ipython",
    "version": 3
   },
   "file_extension": ".py",
   "mimetype": "text/x-python",
   "name": "python",
   "nbconvert_exporter": "python",
   "pygments_lexer": "ipython3",
   "version": "3.9.5"
  }
 },
 "nbformat": 4,
 "nbformat_minor": 2
}
